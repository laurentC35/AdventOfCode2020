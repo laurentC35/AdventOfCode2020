{
 "metadata": {
  "language_info": {
   "codemirror_mode": {
    "name": "ipython",
    "version": 3
   },
   "file_extension": ".py",
   "mimetype": "text/x-python",
   "name": "python",
   "nbconvert_exporter": "python",
   "pygments_lexer": "ipython3",
   "version": "3.8.5-final"
  },
  "orig_nbformat": 2,
  "kernelspec": {
   "name": "python3",
   "display_name": "Python 3",
   "language": "python"
  }
 },
 "nbformat": 4,
 "nbformat_minor": 2,
 "cells": [
  {
   "cell_type": "code",
   "execution_count": 1,
   "metadata": {},
   "outputs": [],
   "source": [
    "inputNumbers = [6,13,1,15,2,0]"
   ]
  },
  {
   "cell_type": "code",
   "execution_count": 2,
   "metadata": {},
   "outputs": [],
   "source": [
    "def parcours(numbers, position):\n",
    "    memory = {n: i+1 for i,n in enumerate(numbers)}\n",
    "    last = numbers[-1]\n",
    "    for i in range (len(numbers)+1,position+1):\n",
    "        lastPosition = memory.get(last,i-1)\n",
    "        memory[last] = i-1        \n",
    "        last = i-1 - lastPosition\n",
    "    return last"
   ]
  },
  {
   "cell_type": "code",
   "execution_count": 3,
   "metadata": {
    "tags": []
   },
   "outputs": [
    {
     "output_type": "stream",
     "name": "stdout",
     "text": [
      "Part 1 : 1194\n",
      "Part 2 : 48710\n"
     ]
    }
   ],
   "source": [
    "print('Part 1 :', parcours(inputNumbers,2020))\n",
    "print('Part 2 :', parcours(inputNumbers,30000000)) # not very fast"
   ]
  }
 ]
}