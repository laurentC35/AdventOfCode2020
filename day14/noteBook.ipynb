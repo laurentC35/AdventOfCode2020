{
 "metadata": {
  "language_info": {
   "codemirror_mode": {
    "name": "ipython",
    "version": 3
   },
   "file_extension": ".py",
   "mimetype": "text/x-python",
   "name": "python",
   "nbconvert_exporter": "python",
   "pygments_lexer": "ipython3",
   "version": "3.8.5-final"
  },
  "orig_nbformat": 2,
  "kernelspec": {
   "name": "python3",
   "display_name": "Python 3",
   "language": "python"
  }
 },
 "nbformat": 4,
 "nbformat_minor": 2,
 "cells": [
  {
   "cell_type": "code",
   "execution_count": 1,
   "metadata": {},
   "outputs": [],
   "source": [
    "import re\n",
    "def decodeLine(line):\n",
    "    if ('mask' in line):\n",
    "        return ['mask',line[7::]]\n",
    "    else:\n",
    "        search = re.findall('mem\\[(\\d+)\\]\\s=\\s(\\d+)', line)[0]\n",
    "        return [ int(search[0]) , int(search[1])]"
   ]
  },
  {
   "cell_type": "code",
   "execution_count": 2,
   "metadata": {},
   "outputs": [],
   "source": [
    "fileInput = open('data.txt', mode='r')\n",
    "instructionsInput =  [decodeLine(line.strip()) for line in fileInput.readlines()]\n",
    "fileInput.close()"
   ]
  },
  {
   "cell_type": "code",
   "execution_count": 3,
   "metadata": {},
   "outputs": [],
   "source": [
    "from functools import reduce\n",
    "\n",
    "def applyMask(nb, mask):\n",
    "    nbBool = (36-len(bin(nb)[2::]))*['0']+[i for i in bin(nb)[2::]]\n",
    "    for i in range(len(mask)):\n",
    "        if(mask[i] in ['1','0']): nbBool[i] = mask[i]\n",
    "    return int(reduce(lambda x,y: x+y,nbBool),2)\n",
    "\n",
    "def calculForPart1(instructions):\n",
    "    memory = {}\n",
    "    mask = instructions[0][1]\n",
    "    for i in range (1,len(instructions)):\n",
    "        if (instructions[i][0] == 'mask'):\n",
    "            mask = instructions[i][1]\n",
    "        else:\n",
    "            memory[instructions[i][0]] = applyMask(instructions[i][1], mask)\n",
    "    return memory\n"
   ]
  },
  {
   "cell_type": "code",
   "execution_count": 4,
   "metadata": {},
   "outputs": [],
   "source": [
    "def getNewMask(adress, mask):\n",
    "    newMask = (36-len(bin(adress)[2::]))*['0']+[i for i in bin(adress)[2::]]\n",
    "    for i in range(len(mask)):\n",
    "        if(mask[i]!='0'): newMask[i] = mask[i]\n",
    "    return reduce(lambda x,y: x+y,newMask)\n",
    "\n",
    "def getNbPossible(L):\n",
    "    if(len(L)==1): return [2**L[0], 0]\n",
    "    else:\n",
    "        listNb = getNbPossible(L[1::])\n",
    "        return [2**L[0] + i for i in listNb] + listNb    \n",
    "\n",
    "def calculNewMemoryAdresses(adress, mask):\n",
    "    puissances = [len(mask)-i-1 for i,n in enumerate(mask) if n=='X']\n",
    "    newNb = int(getNewMask(adress, mask).replace('X','0'),2)\n",
    "    return [newNb + i for i in getNbPossible(puissances)]\n"
   ]
  },
  {
   "cell_type": "code",
   "execution_count": 5,
   "metadata": {},
   "outputs": [],
   "source": [
    "def calculForPart2(instructions):\n",
    "    memory = {}\n",
    "    mask = instructions[0][1]\n",
    "    for i in range (1,len(instructions)):\n",
    "        if (instructions[i][0] == 'mask'):\n",
    "            mask = instructions[i][1]\n",
    "        else:\n",
    "            newAdresses = calculNewMemoryAdresses(instructions[i][0], mask)\n",
    "            for adress in newAdresses:\n",
    "                memory[adress] = instructions[i][1]\n",
    "    return memory\n",
    "    "
   ]
  },
  {
   "cell_type": "code",
   "execution_count": 6,
   "metadata": {},
   "outputs": [
    {
     "output_type": "stream",
     "name": "stdout",
     "text": [
      "Part 1 : 15514035145260\nPart 2 : 3926790061594\n"
     ]
    }
   ],
   "source": [
    "print('Part 1 :',sum(calculForPart1(instructionsInput).values()))\n",
    "print('Part 2 :', sum(calculForPart2(instructionsInput).values()))"
   ]
  }
 ]
}