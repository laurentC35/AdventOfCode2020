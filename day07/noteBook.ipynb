{
 "metadata": {
  "language_info": {
   "codemirror_mode": {
    "name": "ipython",
    "version": 3
   },
   "file_extension": ".py",
   "mimetype": "text/x-python",
   "name": "python",
   "nbconvert_exporter": "python",
   "pygments_lexer": "ipython3",
   "version": "3.8.5-final"
  },
  "orig_nbformat": 2,
  "kernelspec": {
   "name": "python3",
   "display_name": "Python 3"
  }
 },
 "nbformat": 4,
 "nbformat_minor": 2,
 "cells": [
  {
   "cell_type": "code",
   "execution_count": 1,
   "metadata": {},
   "outputs": [],
   "source": [
    "import re\n",
    "\n",
    "def getRulesFromText(text):\n",
    "    rulesSearch = re.findall('(\\d+)\\s(([a-z]|\\s)*)\\sbag(s)?', text)\n",
    "    return { rule[1] : int(rule[0]) for rule in rulesSearch }    "
   ]
  },
  {
   "cell_type": "code",
   "execution_count": 2,
   "metadata": {
    "tags": []
   },
   "outputs": [],
   "source": [
    "fileInput = open('data.txt', mode='r')\n",
    "dataInput = {rule.split(' bags contain ')[0] : getRulesFromText(rule.split(' bags contain ')[1]) for rule in fileInput.readlines()}\n",
    "fileInput.close()"
   ]
  },
  {
   "cell_type": "code",
   "execution_count": 3,
   "metadata": {},
   "outputs": [],
   "source": [
    "def findBags(rulesData, colorSearch):\n",
    "    newRules = dict(filter(lambda rule: colorSearch in rule[1].keys(), rulesData.items()))\n",
    "    if len(newRules) == 0:\n",
    "        return newRules\n",
    "    else:\n",
    "        listRules = [findBags(rulesData, color) for color in newRules.keys()]\n",
    "        returnedRules = newRules.copy()\n",
    "        for rule in listRules:\n",
    "            returnedRules.update(rule)\n",
    "        return returnedRules"
   ]
  },
  {
   "cell_type": "code",
   "execution_count": 4,
   "metadata": {},
   "outputs": [],
   "source": [
    "def countBags(rulesData, color):\n",
    "    return 0 if len(rulesData[color]) == 0 else sum([value + value*(countBags(rulesData, colorRule)) for colorRule, value in rulesData[color].items()])"
   ]
  },
  {
   "cell_type": "code",
   "execution_count": 5,
   "metadata": {},
   "outputs": [
    {
     "output_type": "stream",
     "name": "stdout",
     "text": [
      "Part 1 : 246\nPart 2 : 2976\n"
     ]
    }
   ],
   "source": [
    "print('Part 1 :', len(findBags(dataInput, 'shiny gold')))\n",
    "print('Part 2 :', countBags(dataInput, 'shiny gold'))"
   ]
  }
 ]
}