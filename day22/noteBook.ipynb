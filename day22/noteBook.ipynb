{
 "metadata": {
  "language_info": {
   "codemirror_mode": {
    "name": "ipython",
    "version": 3
   },
   "file_extension": ".py",
   "mimetype": "text/x-python",
   "name": "python",
   "nbconvert_exporter": "python",
   "pygments_lexer": "ipython3",
   "version": "3.8.5-final"
  },
  "orig_nbformat": 2,
  "kernelspec": {
   "name": "python3",
   "display_name": "Python 3",
   "language": "python"
  }
 },
 "nbformat": 4,
 "nbformat_minor": 2,
 "cells": [
  {
   "cell_type": "code",
   "execution_count": 9,
   "metadata": {},
   "outputs": [],
   "source": [
    "def getDeck(group):\n",
    "    temp = group.split('\\n')\n",
    "    return [int(card) for card in temp[1:]]"
   ]
  },
  {
   "cell_type": "code",
   "execution_count": 32,
   "metadata": {},
   "outputs": [],
   "source": [
    "fileInput = open('data.txt', mode='r')\n",
    "dataInput = [ getDeck(group) for group in fileInput.read().split('\\n\\n') ]\n",
    "fileInput.close()"
   ]
  },
  {
   "cell_type": "code",
   "execution_count": 33,
   "metadata": {},
   "outputs": [
    {
     "output_type": "execute_result",
     "data": {
      "text/plain": [
       "[[28,\n",
       "  13,\n",
       "  25,\n",
       "  16,\n",
       "  38,\n",
       "  3,\n",
       "  14,\n",
       "  6,\n",
       "  29,\n",
       "  2,\n",
       "  47,\n",
       "  20,\n",
       "  35,\n",
       "  43,\n",
       "  30,\n",
       "  39,\n",
       "  21,\n",
       "  42,\n",
       "  50,\n",
       "  48,\n",
       "  23,\n",
       "  11,\n",
       "  34,\n",
       "  24,\n",
       "  41],\n",
       " [27,\n",
       "  37,\n",
       "  9,\n",
       "  10,\n",
       "  17,\n",
       "  31,\n",
       "  19,\n",
       "  33,\n",
       "  40,\n",
       "  12,\n",
       "  32,\n",
       "  1,\n",
       "  18,\n",
       "  36,\n",
       "  49,\n",
       "  46,\n",
       "  26,\n",
       "  4,\n",
       "  45,\n",
       "  8,\n",
       "  15,\n",
       "  5,\n",
       "  44,\n",
       "  22,\n",
       "  7]]"
      ]
     },
     "metadata": {},
     "execution_count": 33
    }
   ],
   "source": [
    "dataInput"
   ]
  },
  {
   "cell_type": "code",
   "execution_count": 34,
   "metadata": {},
   "outputs": [],
   "source": [
    "def playRound(decks):\n",
    "    deck1 = decks[0]\n",
    "    deck2 = decks[1]\n",
    "    if(deck1[0] > deck2[0]):\n",
    "        deck1, deck2 = deck1[1:]+[deck1[0],deck2[0]], deck2[1:]\n",
    "    else:\n",
    "        deck1, deck2 = deck1[1:], deck2[1:]+[deck2[0],deck1[0]]\n",
    "    return [deck1, deck2]\n"
   ]
  },
  {
   "cell_type": "code",
   "execution_count": 35,
   "metadata": {},
   "outputs": [],
   "source": [
    "def playGame(decks):\n",
    "    while(len(decks[0])!=0 and len(decks[1])!=0):\n",
    "        decks = playRound(decks)\n",
    "    return decks"
   ]
  },
  {
   "cell_type": "code",
   "execution_count": 36,
   "metadata": {},
   "outputs": [],
   "source": [
    "def calculForPart1(decks):\n",
    "    finalDecks = playGame(decks)\n",
    "    winerDeck = [deck for deck in finalDecks if len(deck) > 0][0]    \n",
    "    return sum([card*(len(winerDeck)-i) for i, card in enumerate(winerDeck)])"
   ]
  },
  {
   "cell_type": "code",
   "execution_count": 37,
   "metadata": {},
   "outputs": [
    {
     "output_type": "stream",
     "name": "stdout",
     "text": [
      "Part 1 : 33694\n"
     ]
    }
   ],
   "source": [
    "print('Part 1 :',calculForPart1(dataInput))"
   ]
  },
  {
   "cell_type": "code",
   "execution_count": null,
   "metadata": {},
   "outputs": [],
   "source": []
  }
 ]
}