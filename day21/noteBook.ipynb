{
 "metadata": {
  "language_info": {
   "codemirror_mode": {
    "name": "ipython",
    "version": 3
   },
   "file_extension": ".py",
   "mimetype": "text/x-python",
   "name": "python",
   "nbconvert_exporter": "python",
   "pygments_lexer": "ipython3",
   "version": "3.8.5-final"
  },
  "orig_nbformat": 2,
  "kernelspec": {
   "name": "python3",
   "display_name": "Python 3",
   "language": "python"
  }
 },
 "nbformat": 4,
 "nbformat_minor": 2,
 "cells": [
  {
   "cell_type": "code",
   "execution_count": 1,
   "metadata": {},
   "outputs": [],
   "source": [
    "import re\n",
    "\n",
    "def getIngredientsAndAllergens(text):\n",
    "    splitText = text.split('(contains')\n",
    "    ingredientsSearch = re.findall('(([a-z]*)\\s)', splitText[0])\n",
    "    return {\n",
    "        'ingredients' : [ingr[1] for ingr in ingredientsSearch],\n",
    "        'allergens' : [a.strip() for a in splitText[1].replace(')','').split(',')]\n",
    "        }\n",
    "\n",
    "def transformDataTODict(data):\n",
    "    res = []\n",
    "    for rule in data:\n",
    "        tempRule = {}\n",
    "        for a in rule['allergens']:\n",
    "            for ingredient in rule['ingredients']:\n",
    "                temp = tempRule.get(a, [])\n",
    "                if(not(ingredient in temp)): \n",
    "                    tempRule[a] = temp+[ingredient]\n",
    "        res.append(tempRule)\n",
    "    return res"
   ]
  },
  {
   "cell_type": "code",
   "execution_count": 2,
   "metadata": {},
   "outputs": [],
   "source": [
    "fileInput = open('data.txt', mode='r')\n",
    "dataInput = [getIngredientsAndAllergens(text) for text in fileInput.readlines()]\n",
    "dataInput1 = transformDataTODict(dataInput)\n",
    "listOfAlle = list(set([ a for rule in dataInput for a in rule['allergens']]))\n",
    "fileInput.close()"
   ]
  },
  {
   "cell_type": "code",
   "execution_count": 3,
   "metadata": {},
   "outputs": [],
   "source": [
    "def getIngredientsListForAllerg(aller, listOfRules):\n",
    "    return [rule[aller] for rule in listOfRules if aller in rule.keys()]"
   ]
  },
  {
   "cell_type": "code",
   "execution_count": 4,
   "metadata": {},
   "outputs": [],
   "source": [
    "from functools import reduce\n",
    "def getIngredientNoAllerg(aller, listOfRules):\n",
    "    temp = getIngredientsListForAllerg(aller, listOfRules)\n",
    "    if(len(temp)>1):\n",
    "        return {\n",
    "            'no': reduce(lambda a,b: list(set(a) - set(b)), temp), \n",
    "            'oneOf': reduce(lambda a,b: list(set(a).intersection(set(b))), temp)\n",
    "            }\n",
    "    return {'oneOf': temp[0]}\n",
    "\n",
    "def findAlle(allsFound, possi):\n",
    "    for al in possi:\n",
    "        if(not(al in allsFound.keys()) and len(possi[al]['oneOf']) == 1):\n",
    "            return al, possi[al]['oneOf'][0]\n",
    "\n",
    "def updateData(data, al, ing):\n",
    "    for alKey in data.keys():\n",
    "        if(alKey != al and ing in data[alKey]['oneOf']): data[alKey]['oneOf'].remove(ing)\n",
    "    return data"
   ]
  },
  {
   "cell_type": "code",
   "execution_count": 5,
   "metadata": {},
   "outputs": [],
   "source": [
    "def findIngWithAlergene(allers, listOfRules):\r\n",
    "    toto = {aller:getIngredientNoAllerg(aller, listOfRules) for aller in allers}\r\n",
    "    allsFound = {}\r\n",
    "    while(len([1 for al in toto.keys() if len(toto[al]['oneOf']) > 1]) > 0):\r\n",
    "        al, ing = findAlle(allsFound, toto)\r\n",
    "        allsFound[al] = ing\r\n",
    "        toto = updateData(toto, al, ing)\r\n",
    "    for al in allers:\r\n",
    "        if(al not in allsFound.keys()): allsFound[al] = toto[al]['oneOf'][0]\r\n",
    "    return allsFound\r\n",
    "\r\n",
    "def findSafeIngr(receipes, als):\r\n",
    "    return reduce(lambda a,b: list(set(a+b)),[list(set(rule['ingredients']) - set(als)) for rule in receipes])\r\n"
   ]
  },
  {
   "cell_type": "code",
   "execution_count": 6,
   "metadata": {},
   "outputs": [],
   "source": [
    "def countIngInList(ing, receipes):\n",
    "    return sum([len(set(rule['ingredients']).intersection(ing)) for rule in receipes])\n",
    "\n",
    "def getResultForPart2(ingWithAl):\n",
    "    return reduce(lambda a,b: a+','+ingWithAl[b],sorted(ingWithAl)[1:],ingWithAl[sorted(ingWithAl)[0]])"
   ]
  },
  {
   "cell_type": "code",
   "execution_count": 7,
   "metadata": {},
   "outputs": [
    {
     "output_type": "stream",
     "name": "stdout",
     "text": [
      "Part 1 : 2203\nPart 2 : fqfm,kxjttzg,ldm,mnzbc,zjmdst,ndvrq,fkjmz,kjkrm\n"
     ]
    }
   ],
   "source": [
    "ingWithoutAllergenes = findSafeIngr(dataInput, list(findIngWithAlergene(listOfAlle,dataInput1).values()))\n",
    "part2 = findIngWithAlergene(listOfAlle,dataInput1)\n",
    "\n",
    "print('Part 1 :', countIngInList(ingWithoutAllergenes, dataInput))\n",
    "print('Part 2 :', getResultForPart2(part2))"
   ]
  }
 ]
}