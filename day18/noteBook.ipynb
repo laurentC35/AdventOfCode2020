{
 "metadata": {
  "language_info": {
   "codemirror_mode": {
    "name": "ipython",
    "version": 3
   },
   "file_extension": ".py",
   "mimetype": "text/x-python",
   "name": "python",
   "nbconvert_exporter": "python",
   "pygments_lexer": "ipython3",
   "version": "3.8.5-final"
  },
  "orig_nbformat": 2,
  "kernelspec": {
   "name": "python3",
   "display_name": "Python 3",
   "language": "python"
  }
 },
 "nbformat": 4,
 "nbformat_minor": 2,
 "cells": [
  {
   "cell_type": "code",
   "execution_count": 1,
   "metadata": {},
   "outputs": [],
   "source": [
    "fileInput = open('data.txt', mode='r')\n",
    "dataInput = [line.strip() for line in fileInput.readlines()]\n",
    "fileInput.close()"
   ]
  },
  {
   "cell_type": "code",
   "execution_count": 2,
   "metadata": {},
   "outputs": [],
   "source": [
    "def readExprPart1(expr):\n",
    "    res, lastOperator, i = 0,'+', 0\n",
    "    while(i<len(expr)):\n",
    "        if(expr[i] in ['*','+']):\n",
    "            lastOperator = expr[i]; i+=1\n",
    "        elif(expr[i] in [str(i) for i in range(10)]):\n",
    "            if(lastOperator == '+'): res += int(expr[i])\n",
    "            if(lastOperator == '*'): res *= int(expr[i])\n",
    "            i+=1\n",
    "        elif(expr[i]=='('):\n",
    "            resTemp = readExprPart1(expr[i+1::])\n",
    "            if(lastOperator == '+'): res += resTemp[0]\n",
    "            if(lastOperator == '*'): res *= resTemp[0]\n",
    "            i+=resTemp[1]+1\n",
    "        elif(expr[i]==')'):\n",
    "            return res,i+1\n",
    "        else: i+=1\n",
    "    return res,i"
   ]
  },
  {
   "cell_type": "code",
   "execution_count": 3,
   "metadata": {},
   "outputs": [],
   "source": [
    "from functools import reduce\n",
    "\n",
    "def readExprPart2(expr):    \n",
    "    res, lastOperator, i, resPending = 0, '+', 0, []\n",
    "    while(i<len(expr)):\n",
    "        if(expr[i] == '+'):\n",
    "            lastOperator = expr[i]; i+=1\n",
    "        elif(expr[i] == '*'):\n",
    "            resPending.append(res); res=0; i+=1\n",
    "        elif(expr[i] in [str(i) for i in range(10)]):\n",
    "            res += int(expr[i]); i+=1\n",
    "        elif(expr[i]=='('):\n",
    "            resTemp = readExprPart2(expr[i+1::])\n",
    "            if(lastOperator == '+'): res += resTemp[0]\n",
    "            if(lastOperator == '*'): resPending.append(resTemp[0])\n",
    "            i+=resTemp[1]+1\n",
    "        elif(expr[i]==')'):\n",
    "            return reduce(lambda x,y :x*y,resPending+[res]),i+1\n",
    "        else:\n",
    "            i+=1\n",
    "    return reduce(lambda x,y :x*y,resPending+[res]),i"
   ]
  },
  {
   "cell_type": "code",
   "execution_count": 4,
   "metadata": {},
   "outputs": [
    {
     "output_type": "stream",
     "name": "stdout",
     "text": [
      "Part 1 : 209335026987\nPart 2 : 33331817392479\n"
     ]
    }
   ],
   "source": [
    "print('Part 1 :', sum([readExprPart1(expr)[0] for expr in dataInput]))\n",
    "print('Part 2 :', sum([readExprPart2(expr)[0] for expr in dataInput]))"
   ]
  }
 ]
}