{
 "metadata": {
  "language_info": {
   "codemirror_mode": {
    "name": "ipython",
    "version": 3
   },
   "file_extension": ".py",
   "mimetype": "text/x-python",
   "name": "python",
   "nbconvert_exporter": "python",
   "pygments_lexer": "ipython3",
   "version": "3.8.5-final"
  },
  "orig_nbformat": 2,
  "kernelspec": {
   "name": "python3",
   "display_name": "Python 3",
   "language": "python"
  }
 },
 "nbformat": 4,
 "nbformat_minor": 2,
 "cells": [
  {
   "cell_type": "code",
   "execution_count": 1,
   "metadata": {},
   "outputs": [],
   "source": [
    "import numpy as np\n",
    "fileInput = open('data.txt', mode='r')\n",
    "dataInput = [{'move':instructions.strip()[0], 'value': int(instructions.strip()[1::])} for instructions in fileInput.readlines()]\n",
    "fileInput.close()"
   ]
  },
  {
   "cell_type": "code",
   "execution_count": 2,
   "metadata": {},
   "outputs": [],
   "source": [
    "directions = {'E':[1,0],'S':[0,-1],'W':[-1,0],'N':[0,1]}\n",
    "\n",
    "def getNewDirection(currentDir, instruction):\n",
    "    sign = 1 if instruction['move'] == 'R' else -1\n",
    "    return np.array(list(directions.values())[(list(directions.values()).index(currentDir.tolist()) + sign*instruction['value']//90)%4])\n",
    "\n",
    "def movePart1(instructions):\n",
    "    position = np.array([0,0])\n",
    "    direction = np.array([1,0])\n",
    "    for instruction in instructions:\n",
    "        if(instruction['move'] == 'F'):\n",
    "            position += instruction['value']*direction\n",
    "        elif(instruction['move'] in ['R','L']):\n",
    "            direction = getNewDirection(direction, instruction)\n",
    "        else:\n",
    "            position += instruction['value']*np.array(directions[instruction['move']])\n",
    "    return position"
   ]
  },
  {
   "cell_type": "code",
   "execution_count": 3,
   "metadata": {},
   "outputs": [],
   "source": [
    "def getNewWayPoint(wayPoint, instruction):\n",
    "    return wayPoint[0] * getNewDirection(np.array([1,0]),instruction) + wayPoint[1] * getNewDirection(np.array([0,1]),instruction)\n",
    "\n",
    "def movePart2(instructions):\n",
    "    position = np.array([0,0])\n",
    "    wayPoint = np.array([10,1])\n",
    "    for instruction in instructions:\n",
    "        if(instruction['move'] == 'F'):\n",
    "            position += instruction['value']*wayPoint\n",
    "        elif(instruction['move'] in ['R','L']):\n",
    "            wayPoint = getNewWayPoint(wayPoint, instruction)\n",
    "        else:\n",
    "            wayPoint += instruction['value']*np.array(directions[instruction['move']])\n",
    "    return position"
   ]
  },
  {
   "cell_type": "code",
   "execution_count": 4,
   "metadata": {},
   "outputs": [
    {
     "output_type": "stream",
     "name": "stdout",
     "text": [
      "Part 1 : 1589\nPart 1 : 23960\n"
     ]
    }
   ],
   "source": [
    "print('Part 1 :', sum(abs(movePart1(dataInput))))\n",
    "print('Part 1 :', sum(abs(movePart2(dataInput))))"
   ]
  }
 ]
}