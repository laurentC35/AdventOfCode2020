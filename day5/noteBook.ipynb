{
 "metadata": {
  "language_info": {
   "codemirror_mode": {
    "name": "ipython",
    "version": 3
   },
   "file_extension": ".py",
   "mimetype": "text/x-python",
   "name": "python",
   "nbconvert_exporter": "python",
   "pygments_lexer": "ipython3",
   "version": "3.8.5-final"
  },
  "orig_nbformat": 2,
  "kernelspec": {
   "name": "python3",
   "display_name": "Python 3"
  }
 },
 "nbformat": 4,
 "nbformat_minor": 2,
 "cells": [
  {
   "cell_type": "code",
   "execution_count": 1,
   "metadata": {
    "tags": []
   },
   "outputs": [],
   "source": [
    "fileInput = open('data.txt', mode='r')\n",
    "dataInput = [line.strip() for line in fileInput.readlines()]\n",
    "fileInput.close()"
   ]
  },
  {
   "cell_type": "code",
   "execution_count": 2,
   "metadata": {},
   "outputs": [],
   "source": [
    "from math import *\n",
    "\n",
    "def decodeRowsOrColumns(encodedElements, rangeInit, lower, upper):\n",
    "    for char in encodedElements:\n",
    "        if(char == lower):\n",
    "            rangeInit = [rangeInit[0], floor(sum(rangeInit)/2)]\n",
    "        if(char == upper):\n",
    "            rangeInit = [ceil(sum(rangeInit)/2), rangeInit[1]]\n",
    "    return rangeInit[0]\n",
    "\n",
    "def decodeRows(encodedRows):\n",
    "    return decodeRowsOrColumns(encodedRows, [0,127], 'F', 'B')\n",
    "\n",
    "def decodeColumns(encodedColumns):\n",
    "    return decodeRowsOrColumns(encodedColumns, [0,7], 'L', 'R')\n",
    "\n",
    "def calculSeatId(boardingPass):\n",
    "    rows = decodeRows(boardingPass[:7])\n",
    "    column = decodeColumns(boardingPass[7:])\n",
    "    return [rows, column, 8 * rows + column]"
   ]
  },
  {
   "cell_type": "code",
   "execution_count": 3,
   "metadata": {
    "tags": []
   },
   "outputs": [],
   "source": [
    "def findMySeat(seats):\n",
    "    seatsFiltered = [s[2] for s in list(filter(lambda seat: seat[0]!=127 and seat[0] != 0, seats))]\n",
    "    for seat1 in seatsFiltered:\n",
    "        for seat2 in seatsFiltered:\n",
    "            if (abs(seat1 - seat2) == 2):\n",
    "                newSeat = floor((seat1+seat2)/2)\n",
    "                if (not(newSeat in seatsFiltered)):\n",
    "                    return newSeat"
   ]
  },
  {
   "cell_type": "code",
   "execution_count": 4,
   "metadata": {},
   "outputs": [
    {
     "output_type": "stream",
     "name": "stdout",
     "text": [
      "Part 1 : 970\nPart 2 : 587\n"
     ]
    }
   ],
   "source": [
    "print('Part 1 :', max([calculSeatId(boardPass)[2] for boardPass in dataInput]))\n",
    "print('Part 2 :', findMySeat([calculSeatId(boardPass) for boardPass in dataInput]))"
   ]
  }
 ]
}