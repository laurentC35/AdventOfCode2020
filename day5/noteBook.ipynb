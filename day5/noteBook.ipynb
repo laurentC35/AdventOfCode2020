{
 "metadata": {
  "language_info": {
   "codemirror_mode": {
    "name": "ipython",
    "version": 3
   },
   "file_extension": ".py",
   "mimetype": "text/x-python",
   "name": "python",
   "nbconvert_exporter": "python",
   "pygments_lexer": "ipython3",
   "version": "3.8.5-final"
  },
  "orig_nbformat": 2,
  "kernelspec": {
   "name": "python3",
   "display_name": "Python 3"
  }
 },
 "nbformat": 4,
 "nbformat_minor": 2,
 "cells": [
  {
   "cell_type": "code",
   "execution_count": 1,
   "metadata": {
    "tags": []
   },
   "outputs": [],
   "source": [
    "fileInput = open('data.txt', mode='r')\n",
    "dataInput = [line.strip() for line in fileInput.readlines()]\n",
    "fileInput.close()"
   ]
  },
  {
   "cell_type": "code",
   "execution_count": 2,
   "metadata": {},
   "outputs": [],
   "source": [
    "from math import *\n",
    "\n",
    "def decodeRowsOrColumns(encodedElements, lower, upper):\n",
    "    return int(encodedElements.replace(lower,'0').replace(upper,'1'), 2)\n",
    "\n",
    "def calculSeatId(boardingPass):\n",
    "    row = decodeRowsOrColumns(boardingPass[:7], 'F','B')\n",
    "    column = decodeRowsOrColumns(boardingPass[7:], 'L', 'R')\n",
    "    return 8 * row + column"
   ]
  },
  {
   "cell_type": "code",
   "execution_count": 3,
   "metadata": {
    "tags": []
   },
   "outputs": [],
   "source": [
    "def findMySeat(seats):\n",
    "    for id1 in seats:\n",
    "        for id2 in seats:            \n",
    "            if (abs(id1 - id2) == 2):\n",
    "                newSeatID = floor((id1+id2)/2)\n",
    "                if (not(newSeatID in seats)):\n",
    "                    return newSeatID"
   ]
  },
  {
   "cell_type": "code",
   "execution_count": 4,
   "metadata": {},
   "outputs": [
    {
     "output_type": "stream",
     "name": "stdout",
     "text": [
      "Part 1 : 970\nPart 2 : 587\n"
     ]
    }
   ],
   "source": [
    "print('Part 1 :', max([calculSeatId(boardPass) for boardPass in dataInput]))\n",
    "print('Part 2 :', findMySeat([calculSeatId(boardPass) for boardPass in dataInput]))"
   ]
  }
 ]
}