{
 "metadata": {
  "language_info": {
   "codemirror_mode": {
    "name": "ipython",
    "version": 3
   },
   "file_extension": ".py",
   "mimetype": "text/x-python",
   "name": "python",
   "nbconvert_exporter": "python",
   "pygments_lexer": "ipython3",
   "version": "3.8.5-final"
  },
  "orig_nbformat": 2,
  "kernelspec": {
   "name": "python3",
   "display_name": "Python 3"
  }
 },
 "nbformat": 4,
 "nbformat_minor": 2,
 "cells": [
  {
   "cell_type": "code",
   "execution_count": 1,
   "metadata": {
    "tags": []
   },
   "outputs": [],
   "source": [
    "fileInput = open('data.txt', mode='r')\n",
    "dataInput = [line.strip() for line in fileInput.readlines()]\n",
    "fileInput.close()"
   ]
  },
  {
   "cell_type": "code",
   "execution_count": 2,
   "metadata": {},
   "outputs": [],
   "source": [
    "from math import *\n",
    "\n",
    "def decodeRowsOrColumns(encodedElements, rangeInit, lower, upper):\n",
    "    for char in encodedElements:\n",
    "        if(char == lower):\n",
    "            rangeInit = [rangeInit[0], floor(sum(rangeInit)/2)]\n",
    "        if(char == upper):\n",
    "            rangeInit = [ceil(sum(rangeInit)/2), rangeInit[1]]\n",
    "    return rangeInit[0]\n",
    "\n",
    "def decodeRows(encodedRows):\n",
    "    return decodeRowsOrColumns(encodedRows, [0,127], 'F', 'B')\n",
    "\n",
    "def decodeColumns(encodedColumns):\n",
    "    return decodeRowsOrColumns(encodedColumns, [0,7], 'L', 'R')\n",
    "\n",
    "def calculSeatId(boardingPass):\n",
    "    row = decodeRows(boardingPass[:7])\n",
    "    column = decodeColumns(boardingPass[7:])\n",
    "    return {'row' : row, 'column' : column, 'seatID' : 8 * row + column}"
   ]
  },
  {
   "cell_type": "code",
   "execution_count": 3,
   "metadata": {
    "tags": []
   },
   "outputs": [],
   "source": [
    "def findMySeat(seats):\n",
    "    seatsIDFiltered = [s['seatID'] for s in list(filter(lambda seat: seat['row']!=127 and seat['row'] != 0, seats))]\n",
    "    for seatID1 in seatsIDFiltered:\n",
    "        for seatID2 in seatsIDFiltered:            \n",
    "            if (abs(seatID1 - seatID2) == 2):\n",
    "                newSeatID = floor((seatID1+seatID2)/2)\n",
    "                if (not(newSeatID in seatsIDFiltered)):\n",
    "                    return newSeatID"
   ]
  },
  {
   "cell_type": "code",
   "execution_count": 4,
   "metadata": {},
   "outputs": [
    {
     "output_type": "stream",
     "name": "stdout",
     "text": [
      "Part 1 : 970\nPart 2 : 587\n"
     ]
    }
   ],
   "source": [
    "print('Part 1 :', max([calculSeatId(boardPass)['seatID'] for boardPass in dataInput]))\n",
    "print('Part 2 :', findMySeat([calculSeatId(boardPass) for boardPass in dataInput]))"
   ]
  }
 ]
}