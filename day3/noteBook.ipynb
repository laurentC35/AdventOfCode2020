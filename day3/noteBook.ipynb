{
 "metadata": {
  "language_info": {
   "codemirror_mode": {
    "name": "ipython",
    "version": 3
   },
   "file_extension": ".py",
   "mimetype": "text/x-python",
   "name": "python",
   "nbconvert_exporter": "python",
   "pygments_lexer": "ipython3",
   "version": "3.8.5-final"
  },
  "orig_nbformat": 2,
  "kernelspec": {
   "name": "python3",
   "display_name": "Python 3"
  }
 },
 "nbformat": 4,
 "nbformat_minor": 2,
 "cells": [
  {
   "cell_type": "code",
   "execution_count": 1,
   "metadata": {},
   "outputs": [],
   "source": [
    "import numpy as np"
   ]
  },
  {
   "cell_type": "code",
   "execution_count": 2,
   "metadata": {
    "tags": []
   },
   "outputs": [],
   "source": [
    "fileInput = open('data.txt', mode='r')\n",
    "def transformChar(char):\n",
    "    if(char == '#'): return 1\n",
    "    return 0\n",
    "trees = np.array([[ transformChar(char) for char in line.strip()] for line in fileInput.readlines()])\n",
    "fileInput.close()"
   ]
  },
  {
   "cell_type": "code",
   "execution_count": 3,
   "metadata": {},
   "outputs": [],
   "source": [
    "def createJourney(right, down, treesMap):\n",
    "    nbLine = treesMap.shape[0] ; nbColumn = treesMap.shape[1]\n",
    "    journey = np.array([[ 0 for j in range(0,nbColumn) ] for i in range(0,nbLine)])\n",
    "    downMove=0 ; rigthMove=0\n",
    "    while(downMove < nbLine - down):\n",
    "        downMove+=down ; rigthMove+=right ; rigthMove=rigthMove%nbColumn\n",
    "        journey[downMove,rigthMove]=1\n",
    "    return journey"
   ]
  },
  {
   "cell_type": "code",
   "execution_count": 4,
   "metadata": {},
   "outputs": [
    {
     "output_type": "stream",
     "name": "stdout",
     "text": [
      "Part 1 : 237\nPart 2 : 2106818610\n"
     ]
    }
   ],
   "source": [
    "enconter = (trees * createJourney(3,1,trees)).sum()\n",
    "print('Part 1 :', enconter)\n",
    "moves = [(1,1),(3,1),(5,1),(7,1),(1,2)]\n",
    "encounters = list(map(lambda move: (trees * createJourney(move[0],move[1],trees)).sum(),moves))\n",
    "print('Part 2 :', np.product(encounters))"
   ]
  }
 ]
}