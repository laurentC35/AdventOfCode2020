{
 "metadata": {
  "language_info": {
   "codemirror_mode": {
    "name": "ipython",
    "version": 3
   },
   "file_extension": ".py",
   "mimetype": "text/x-python",
   "name": "python",
   "nbconvert_exporter": "python",
   "pygments_lexer": "ipython3",
   "version": "3.8.5-final"
  },
  "orig_nbformat": 2,
  "kernelspec": {
   "name": "python3",
   "display_name": "Python 3"
  }
 },
 "nbformat": 4,
 "nbformat_minor": 2,
 "cells": [
  {
   "cell_type": "code",
   "execution_count": 1,
   "metadata": {
    "tags": []
   },
   "outputs": [],
   "source": [
    "fileInput = open('data.txt', mode='r')\n",
    "dataInput = [line.strip().replace(':','').split() for line in fileInput.readlines()]\n",
    "fileInput.close()"
   ]
  },
  {
   "cell_type": "code",
   "execution_count": 2,
   "metadata": {},
   "outputs": [],
   "source": [
    "def isCorrectPasswordPolicyPart1(minMax, letterRequired, password):\n",
    "    minCount = int(minMax.split('-')[0])\n",
    "    maxCount = int(minMax.split('-')[1])\n",
    "    return minCount <= password.count(letterRequired) <= maxCount\n",
    "\n",
    "def isCorrectPasswordPolicyPart2(positions, letterRequired, password):\n",
    "    position1 = int(positions.split('-')[0])\n",
    "    position2 = int(positions.split('-')[1])\n",
    "    return (password[position2 - 1] == letterRequired) != (password[position1 - 1] == letterRequired)\n"
   ]
  },
  {
   "cell_type": "code",
   "execution_count": 3,
   "metadata": {},
   "outputs": [],
   "source": [
    "def countCorrectPassword(data, policy):\n",
    "    return len(list(filter(lambda x: policy(x[0],x[1],x[2]), data)))"
   ]
  },
  {
   "cell_type": "code",
   "execution_count": 4,
   "metadata": {},
   "outputs": [
    {
     "output_type": "stream",
     "name": "stdout",
     "text": [
      "Part 1 :515\nPart 2 :711\n"
     ]
    }
   ],
   "source": [
    "print('Part 1 :'+str(countCorrectPassword(dataInput, isCorrectPasswordPolicyPart1)))\n",
    "print('Part 2 :'+str(countCorrectPassword(dataInput, isCorrectPasswordPolicyPart2)))"
   ]
  }
 ]
}