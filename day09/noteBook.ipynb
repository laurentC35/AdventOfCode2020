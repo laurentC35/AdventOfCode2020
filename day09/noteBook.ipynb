{
 "metadata": {
  "language_info": {
   "codemirror_mode": {
    "name": "ipython",
    "version": 3
   },
   "file_extension": ".py",
   "mimetype": "text/x-python",
   "name": "python",
   "nbconvert_exporter": "python",
   "pygments_lexer": "ipython3",
   "version": "3.8.5-final"
  },
  "orig_nbformat": 2,
  "kernelspec": {
   "name": "python3",
   "display_name": "Python 3"
  }
 },
 "nbformat": 4,
 "nbformat_minor": 2,
 "cells": [
  {
   "cell_type": "code",
   "execution_count": 1,
   "metadata": {},
   "outputs": [],
   "source": [
    "fileInput = open('data.txt', mode='r')\n",
    "dataInput = [int(number.strip()) for number in fileInput.readlines()]\n",
    "fileInput.close()"
   ]
  },
  {
   "cell_type": "code",
   "execution_count": 2,
   "metadata": {},
   "outputs": [],
   "source": [
    "import itertools\n",
    "\n",
    "def isSum(numbers, offset, indice):\n",
    "    return numbers[indice] in [a+b for a,b in itertools.combinations(numbers[indice-offset:indice], 2)]"
   ]
  },
  {
   "cell_type": "code",
   "execution_count": 3,
   "metadata": {},
   "outputs": [],
   "source": [
    "def findNumber(numbers, offset):\n",
    "    return [numbers[i] for i in range(offset, len(numbers)) if not(isSum(numbers, offset, i))][0]"
   ]
  },
  {
   "cell_type": "code",
   "execution_count": 4,
   "metadata": {},
   "outputs": [],
   "source": [
    "def createCombinationFollowed(numbers, length):\n",
    "    comb = []\n",
    "    for i in range(len(numbers)):\n",
    "        if(i+length <= len(numbers)): comb+= [numbers[i:i+length]]\n",
    "        else: return comb\n",
    "    return comb\n",
    "\n",
    "def findResultPart2(numbers, numberToFind):\n",
    "    for i in range(3, len(numbers)+1):\n",
    "        combinations = [min(comb)+max(comb) for comb in createCombinationFollowed(numbers, i) if sum(comb) == numberToFind]\n",
    "        if(len(combinations) > 0): return combinations[0]"
   ]
  },
  {
   "cell_type": "code",
   "execution_count": 5,
   "metadata": {},
   "outputs": [
    {
     "output_type": "stream",
     "name": "stdout",
     "text": [
      "Part 1 : 1038347917\nPart 2 : 137394018\n"
     ]
    }
   ],
   "source": [
    "resultPart1 = findNumber(dataInput, 25)\n",
    "print('Part 1 :', resultPart1)\n",
    "print('Part 2 :', findResultPart2(dataInput, resultPart1))"
   ]
  }
 ]
}