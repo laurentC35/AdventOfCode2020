{
 "metadata": {
  "language_info": {
   "codemirror_mode": {
    "name": "ipython",
    "version": 3
   },
   "file_extension": ".py",
   "mimetype": "text/x-python",
   "name": "python",
   "nbconvert_exporter": "python",
   "pygments_lexer": "ipython3",
   "version": "3.8.5-final"
  },
  "orig_nbformat": 2,
  "kernelspec": {
   "name": "python3",
   "display_name": "Python 3"
  }
 },
 "nbformat": 4,
 "nbformat_minor": 2,
 "cells": [
  {
   "cell_type": "code",
   "execution_count": 1,
   "metadata": {},
   "outputs": [],
   "source": [
    "fileInput = open('data.txt', mode='r')\n",
    "dataInput = [int(line.strip()) for line in fileInput.readlines()]\n",
    "fileInput.close()"
   ]
  },
  {
   "cell_type": "code",
   "execution_count": 2,
   "metadata": {},
   "outputs": [],
   "source": [
    "def findDoubleNumber(numbers):\n",
    "    for nombre in numbers:\n",
    "        if(2020 - nombre in numbers):\n",
    "            return nombre*(2020-nombre)"
   ]
  },
  {
   "source": [
    "def findTripleNumber(numbers):\n",
    "    for i in numbers:\n",
    "        for j in numbers:\n",
    "            if(2020 - i - j in numbers):\n",
    "                return i*j*(2020-i-j)"
   ],
   "cell_type": "code",
   "metadata": {},
   "execution_count": 3,
   "outputs": []
  },
  {
   "cell_type": "code",
   "execution_count": 4,
   "metadata": {},
   "outputs": [
    {
     "output_type": "stream",
     "name": "stdout",
     "text": [
      "Part 1 : 605364\nPart 2 : 128397680\n"
     ]
    }
   ],
   "source": [
    "print('Part 1 :', findDoubleNumber(dataInput))\n",
    "print('Part 2 :', findTripleNumber(dataInput))"
   ]
  }
 ]
}