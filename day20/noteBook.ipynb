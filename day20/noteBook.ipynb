{
 "metadata": {
  "language_info": {
   "codemirror_mode": {
    "name": "ipython",
    "version": 3
   },
   "file_extension": ".py",
   "mimetype": "text/x-python",
   "name": "python",
   "nbconvert_exporter": "python",
   "pygments_lexer": "ipython3",
   "version": "3.8.5-final"
  },
  "orig_nbformat": 2,
  "kernelspec": {
   "name": "python3",
   "display_name": "Python 3",
   "language": "python"
  }
 },
 "nbformat": 4,
 "nbformat_minor": 2,
 "cells": [
  {
   "cell_type": "code",
   "execution_count": 1,
   "metadata": {},
   "outputs": [],
   "source": [
    "import numpy as np\n",
    "\n",
    "def getTile(tile):\n",
    "    splitedTile = tile.split('\\n')\n",
    "    tileId = int(splitedTile[0].replace('Tile','').replace(':',''))\n",
    "    return tileId, np.array([[j for j in i] for i in splitedTile[1:]])"
   ]
  },
  {
   "cell_type": "code",
   "execution_count": 2,
   "metadata": {},
   "outputs": [],
   "source": [
    "fileInput = open('data.txt', mode='r')\n",
    "dataInput = { getTile(tile)[0]:getTile(tile)[1] for tile in fileInput.read().split('\\n\\n') }\n",
    "fileInput.close()"
   ]
  },
  {
   "cell_type": "code",
   "execution_count": 3,
   "metadata": {},
   "outputs": [],
   "source": [
    "def getPossibleArrayFromArray(arr):\n",
    "    rotatedArrays = [np.rot90(arr,k,(0,1)) for k in range(4)]\n",
    "    flipArrays = [np.rot90(np.flip(arr,0),k,(0,1)) for k in range(4)]\n",
    "    return rotatedArrays + flipArrays"
   ]
  },
  {
   "cell_type": "code",
   "execution_count": 4,
   "metadata": {},
   "outputs": [],
   "source": [
    "import itertools as it\n",
    "\n",
    "def getBordersOfTile(tile, borderSpec='all'):\n",
    "    if(borderSpec == 'all'): return [tile[0],tile[-1],tile[:,0],tile[:,-1]]\n",
    "    if(borderSpec == 'rb'): return [tile[-1],tile[:,-1]] # right & bottom\n",
    "\n",
    "def testConnectedBorder(borders1, borders2):\n",
    "    return any([ np.array_equal(b1,b2) for b1,b2 in it.product(borders1,borders2) ])\n",
    "\n",
    "def areConnectedTiles(tile1,tile2, borderSpec='all'):\n",
    "    bordersTile1 = getBordersOfTile(tile1, borderSpec)\n",
    "    possibleBordersOfTile2 = [getBordersOfTile(t) for t in getPossibleArrayFromArray(tile2)]\n",
    "    return any([testConnectedBorder(bordersTile1, bordersTile2) for bordersTile2 in possibleBordersOfTile2])\n",
    "\n",
    "def countConnectedTiles(idTest,tiles,borderSpec='all'):\n",
    "    s = 0\n",
    "    for tileID, tileArray in tiles.items():\n",
    "        if(tileID != idTest):\n",
    "            if(areConnectedTiles(tiles[idTest],tileArray,borderSpec)): s+=1\n",
    "    return s"
   ]
  },
  {
   "cell_type": "code",
   "execution_count": 5,
   "metadata": {},
   "outputs": [],
   "source": [
    "from functools import reduce\n",
    "\n",
    "def calculForPart1(tiles):\n",
    "    cornerTiles = [ idTile for idTile in tiles.keys() if countConnectedTiles(idTile,tiles) == 2]\n",
    "    return reduce(lambda a,b: a*b, cornerTiles), cornerTiles"
   ]
  },
  {
   "cell_type": "code",
   "execution_count": 6,
   "metadata": {},
   "outputs": [],
   "source": [
    "from math import *\n",
    "\n",
    "# First corner = top-left corner\n",
    "def getFirstCorner(cornerTiles, tiles):\n",
    "    cornerId = cornerTiles[0]\n",
    "    while(countConnectedTiles(cornerId,tiles, 'rb') < 2):        \n",
    "        tiles[cornerId] = np.rot90(tiles[cornerId], 1, (0,1))\n",
    "    return tiles[cornerId], cornerId\n",
    "\n",
    "# assume that currentTile is not in tiles\n",
    "# currentTile is fixed (can't be rotated or flipped)\n",
    "def findNextRightTile(currentTile, tiles):\n",
    "    borderRight = currentTile[:,-1]\n",
    "    for idTile, tile in tiles.items():\n",
    "        possibleTiles = getPossibleArrayFromArray(tile)\n",
    "        for t in possibleTiles:\n",
    "            borderLeft = t[:,0]\n",
    "            if(np.array_equal(borderRight,borderLeft)):\n",
    "                return t, idTile\n",
    "\n",
    "def findFirstTileOfLine(upTile, tiles):\n",
    "    borderBottom = upTile[-1]\n",
    "    for idTile, tile in tiles.items():\n",
    "        possibleTiles = getPossibleArrayFromArray(tile)\n",
    "        for t in possibleTiles:\n",
    "            borderUp = t[0]\n",
    "            if(np.array_equal(borderBottom,borderUp)):\n",
    "                return t, idTile\n",
    "\n",
    "'''\n",
    "¤¤¤¤¤¤¤¤¤\n",
    "¤¤ -->\n",
    "|\n",
    "v\n",
    "we build puzzle line by line, and we start with anyone corner (the first for example)\n",
    "that we rotate until it becomes the top-left corner of the puzzle\n",
    "'''             \n",
    "def constuctPuzzle(cornerTiles, tiles):\n",
    "    squareLen = int(sqrt(len(tiles)))\n",
    "    puzzle = []\n",
    "    for i in range(squareLen):\n",
    "        puzzleLine = []      \n",
    "        corner, cornerID = getFirstCorner(cornerTiles, tiles) if(i==0) else findFirstTileOfLine(puzzle[-1][0], tiles)\n",
    "        puzzleLine.append(corner); del tiles[cornerID]\n",
    "        while(len(puzzleLine) < squareLen):\n",
    "            nextTile, nextTileID = findNextRightTile(puzzleLine[-1],tiles)\n",
    "            puzzleLine.append(nextTile); del tiles[nextTileID]\n",
    "        puzzle.append(puzzleLine)\n",
    "    return puzzle"
   ]
  },
  {
   "cell_type": "code",
   "execution_count": 7,
   "metadata": {},
   "outputs": [],
   "source": [
    "from functools import reduce\n",
    "\n",
    "def getFinalPuzzle(corners, tiles):\n",
    "    puzzleTemp_1 = constuctPuzzle(corners, tiles)\n",
    "    puzzleTemp_2 = [ [ tile[1:-1,1:-1] for tile in ligne] for ligne in puzzleTemp_1]\n",
    "    puzzleTemp_3 = [reduce(lambda a,b: np.concatenate((a,b), axis=1), ligne) for ligne in puzzleTemp_2]\n",
    "    return reduce(lambda a,b: np.concatenate((a,b), axis=0), puzzleTemp_3)"
   ]
  },
  {
   "cell_type": "code",
   "execution_count": 8,
   "metadata": {},
   "outputs": [],
   "source": [
    "patternFile = open('pattern.txt', mode='r')\n",
    "monsterPattern = [ [ char for char in line.replace('\\n','')] for line in patternFile.readlines()]\n",
    "def getPatternRule(pattern):\n",
    "    L=[]\n",
    "    for i in range(len(pattern)):\n",
    "        for j in range(len(pattern[i])):\n",
    "            if (pattern[i][j] == '#'): L.append((i,j))\n",
    "    return L\n",
    "nbLinePattern, nbColPattern = np.array(monsterPattern).shape\n",
    "monsterPattern = getPatternRule(monsterPattern)\n",
    "patternFile.close()"
   ]
  },
  {
   "cell_type": "code",
   "execution_count": 9,
   "metadata": {},
   "outputs": [],
   "source": [
    "def isMatchingPattern(subImg):\n",
    "    for i,j in monsterPattern:\n",
    "        if(subImg[i,j] != '#'): return False\n",
    "    return True\n",
    "\n",
    "def imgHasMonsters(img):\n",
    "    nbLine, nbCol = img.shape\n",
    "    for i in range(nbLine-nbLinePattern):\n",
    "        for j in range(nbCol-nbColPattern):\n",
    "            if(isMatchingPattern(img[i:i+nbLinePattern,j:j+nbColPattern])): return True\n",
    "    return False\n",
    "\n",
    "def replaceMonsterByO(img):\n",
    "    nbLine, nbCol = img.shape\n",
    "    for i in range(nbLine-nbLinePattern):\n",
    "        for j in range(nbCol-nbColPattern):\n",
    "            if(isMatchingPattern(img[i:i+nbLinePattern,j:j+nbColPattern])):\n",
    "                for x,y in monsterPattern: img[i+x,j+y] = 'O'\n",
    "    return img"
   ]
  },
  {
   "cell_type": "code",
   "execution_count": 10,
   "metadata": {},
   "outputs": [],
   "source": [
    "resPart1, corners = calculForPart1(dataInput)\r\n",
    "correctPuzzle = [p for p in getPossibleArrayFromArray(getFinalPuzzle(corners,dataInput)) if imgHasMonsters(p)][0]"
   ]
  },
  {
   "cell_type": "code",
   "execution_count": 11,
   "metadata": {},
   "outputs": [
    {
     "output_type": "stream",
     "name": "stdout",
     "text": [
      "Part 1 : 32287787075651\nPart 2 : 1939\n"
     ]
    }
   ],
   "source": [
    "print('Part 1 :', resPart1)\n",
    "print('Part 2 :', sum([l.count('#') for l in replaceMonsterByO(correctPuzzle).tolist()]))"
   ]
  }
 ]
}