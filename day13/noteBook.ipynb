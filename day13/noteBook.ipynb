{
 "metadata": {
  "language_info": {
   "codemirror_mode": {
    "name": "ipython",
    "version": 3
   },
   "file_extension": ".py",
   "mimetype": "text/x-python",
   "name": "python",
   "nbconvert_exporter": "python",
   "pygments_lexer": "ipython3",
   "version": "3.8.5-final"
  },
  "orig_nbformat": 2,
  "kernelspec": {
   "name": "python3",
   "display_name": "Python 3",
   "language": "python"
  }
 },
 "nbformat": 4,
 "nbformat_minor": 2,
 "cells": [
  {
   "cell_type": "code",
   "execution_count": 1,
   "metadata": {},
   "outputs": [],
   "source": [
    "import numpy as np\n",
    "fileInput = open('data.txt', mode='r')\n",
    "dataInput = int(fileInput.readline())\n",
    "busInput =  [{'id':int(b) ,'offset':i} if b!='x' else b for i,b in enumerate(fileInput.readline().split(',')) if b!='x']\n",
    "fileInput.close()"
   ]
  },
  {
   "cell_type": "code",
   "execution_count": 2,
   "metadata": {},
   "outputs": [],
   "source": [
    "from math import *\n",
    "\n",
    "def calculTimeToTakeBus(bus, time):\n",
    "    return [{'id': b['id'], 'time':ceil(time/b['id'])*b['id']} for b in bus]\n",
    "\n",
    "def resultForPart1(bus, time):\n",
    "    busTime = calculTimeToTakeBus(bus, time)\n",
    "    busTime.sort(key=lambda b:b['time'])\n",
    "    return (busTime[0]['time']-time)*busTime[0]['id']"
   ]
  },
  {
   "cell_type": "code",
   "execution_count": 3,
   "metadata": {},
   "outputs": [],
   "source": [
    "def resultForPart2(listInput):\n",
    "    listBus = listInput[1::]\n",
    "    listBus.sort(key=lambda b:-b['id'])\n",
    "    t = 0\n",
    "    inc = listInput[0]['id']\n",
    "    for bus in listBus:\n",
    "        while((t+bus['offset'])%bus['id']!=0):\n",
    "            t += inc\n",
    "        inc = inc * bus['id']\n",
    "    return t"
   ]
  },
  {
   "cell_type": "code",
   "execution_count": 4,
   "metadata": {},
   "outputs": [
    {
     "output_type": "stream",
     "name": "stdout",
     "text": [
      "Part 1 : 4938\nPart 2 : 230903629977901\n"
     ]
    }
   ],
   "source": [
    "print('Part 1 :', resultForPart1(busInput,dataInput))\n",
    "print('Part 2 :', resultForPart2(busInput))"
   ]
  }
 ]
}