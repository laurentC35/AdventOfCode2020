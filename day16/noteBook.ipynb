{
 "metadata": {
  "language_info": {
   "codemirror_mode": {
    "name": "ipython",
    "version": 3
   },
   "file_extension": ".py",
   "mimetype": "text/x-python",
   "name": "python",
   "nbconvert_exporter": "python",
   "pygments_lexer": "ipython3",
   "version": "3.8.5-final"
  },
  "orig_nbformat": 2,
  "kernelspec": {
   "name": "python3",
   "display_name": "Python 3",
   "language": "python"
  }
 },
 "nbformat": 4,
 "nbformat_minor": 2,
 "cells": [
  {
   "cell_type": "code",
   "execution_count": 1,
   "metadata": {},
   "outputs": [],
   "source": [
    "def getRanges(rangesString):\n",
    "    ranges = rangesString.split(' or ')\n",
    "    return [[int(rg.split('-')[0]), int(rg.split('-')[1])] for rg in ranges]\n",
    "def getTicket(ticket):\n",
    "    return [int(n) for n in ticket.split(',')]"
   ]
  },
  {
   "cell_type": "code",
   "execution_count": 2,
   "metadata": {
    "tags": []
   },
   "outputs": [],
   "source": [
    "fileInput = open('data.txt', mode='r')\n",
    "dataInput = [group.split('\\n') for group in fileInput.read().split('\\n\\n')]\n",
    "fileInput.close()\n",
    "\n",
    "filedsRulesInput = { rule.split(':')[0]: getRanges(rule.split(':')[1]) for rule in dataInput[0]}\n",
    "myTicketInput = getTicket(dataInput[1][1])\n",
    "nearbyTicketsInput = [ getTicket(t) for t in dataInput[2][1::]]"
   ]
  },
  {
   "cell_type": "code",
   "execution_count": 3,
   "metadata": {},
   "outputs": [],
   "source": [
    "def isValidNumberOneRule(nb, rule):\n",
    "    return (rule[0][0] <= nb <= rule[0][1]) or (rule[1][0] <= nb <= rule[1][1])\n",
    "\n",
    "def isValidNumber(nb, rules):\n",
    "    for rule in rules:\n",
    "        if(isValidNumberOneRule(nb,rule)): return True\n",
    "    return False\n",
    "\n",
    "def findInvalidNumbersInTicket(ticket, rules):\n",
    "    return [n for n in ticket if(not(isValidNumber(n,rules.values())))]"
   ]
  },
  {
   "cell_type": "code",
   "execution_count": 4,
   "metadata": {},
   "outputs": [],
   "source": [
    "def deleteInvalidTicket(nearbyTickets, rules):\n",
    "    return [ ticket for ticket in nearbyTickets if len(findInvalidNumbersInTicket(ticket,rules))== 0 ]"
   ]
  },
  {
   "cell_type": "code",
   "execution_count": 5,
   "metadata": {},
   "outputs": [],
   "source": [
    "def findPositionsOfOneRuleInTicket(tickets, rule):\n",
    "    ticketLength = len(tickets[0])\n",
    "    possiblePositions = []\n",
    "    for position in range(ticketLength):\n",
    "        numbersToTest = [ticket[position] for ticket in tickets]\n",
    "        boolRes = True\n",
    "        for nb in numbersToTest:\n",
    "            if(not(isValidNumberOneRule(nb,rule))):\n",
    "                boolRes = False; break\n",
    "        if(boolRes): possiblePositions.append(position)\n",
    "    return possiblePositions"
   ]
  },
  {
   "cell_type": "code",
   "execution_count": 6,
   "metadata": {},
   "outputs": [],
   "source": [
    "def getFoundRule(rulesPosition):\n",
    "    for name,positions in rulesPosition.items():\n",
    "        if len(positions) == 1: return (name,positions[0])\n",
    "\n",
    "def removePossiblePosition(rulesPosition, position):\n",
    "    newRules = {}\n",
    "    for name,positions in rulesPosition.items():\n",
    "        positions.remove(position)\n",
    "        if(len(positions)>0): newRules[name] = positions\n",
    "    return newRules\n",
    "\n",
    "def findPossiblesPositionOfRules(tickets, rules):\n",
    "    return { name: findPositionsOfOneRuleInTicket(tickets,rule) for name,rule in rules.items() }\n",
    "\n",
    "def findPositionForRules(tickets, rules):\n",
    "    res, rulesPos = {}, { name: findPositionsOfOneRuleInTicket(tickets,rule) for name,rule in rules.items() }\n",
    "    while(len(rulesPos)>0):\n",
    "        ruleFound = getFoundRule(rulesPos)\n",
    "        res[ruleFound[0]] = ruleFound[1]\n",
    "        rulesPos = removePossiblePosition(rulesPos,ruleFound[1])\n",
    "    return res"
   ]
  },
  {
   "cell_type": "code",
   "execution_count": 7,
   "metadata": {},
   "outputs": [],
   "source": [
    "from functools import reduce\n",
    "\n",
    "def calculForPart2(nearbyTickets,fieldsRules,myTicket):\n",
    "    validTickets = deleteInvalidTicket(nearbyTickets, fieldsRules)\n",
    "    return [myTicket[position] for name,position in findPositionForRules(validTickets,fieldsRules).items() if 'departure' in name]"
   ]
  },
  {
   "cell_type": "code",
   "execution_count": 8,
   "metadata": {},
   "outputs": [
    {
     "output_type": "stream",
     "name": "stdout",
     "text": [
      "Part 1 : 20060\nPart 2 : 2843534243843\n"
     ]
    }
   ],
   "source": [
    "print('Part 1 :', sum([ sum(findInvalidNumbersInTicket(ticket, filedsRulesInput)) for ticket in nearbyTicketsInput]))\n",
    "print('Part 2 :', reduce((lambda x,y : x*y),calculForPart2(nearbyTicketsInput,filedsRulesInput, myTicketInput)))"
   ]
  }
 ]
}