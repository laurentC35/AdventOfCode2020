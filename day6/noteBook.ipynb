{
 "metadata": {
  "language_info": {
   "codemirror_mode": {
    "name": "ipython",
    "version": 3
   },
   "file_extension": ".py",
   "mimetype": "text/x-python",
   "name": "python",
   "nbconvert_exporter": "python",
   "pygments_lexer": "ipython3",
   "version": "3.8.5-final"
  },
  "orig_nbformat": 2,
  "kernelspec": {
   "name": "python3",
   "display_name": "Python 3"
  }
 },
 "nbformat": 4,
 "nbformat_minor": 2,
 "cells": [
  {
   "cell_type": "code",
   "execution_count": 1,
   "metadata": {
    "tags": []
   },
   "outputs": [],
   "source": [
    "fileInput = open('data.txt', mode='r')\n",
    "dataInput = [responses.replace('\\n',' ').split(' ') for responses in fileInput.read().split('\\n\\n')]\n",
    "fileInput.close()"
   ]
  },
  {
   "cell_type": "code",
   "execution_count": 2,
   "metadata": {},
   "outputs": [],
   "source": [
    "def countResponsesInGroup(reponsesGroup):\n",
    "    dic = {}\n",
    "    for reponses in reponsesGroup:\n",
    "        for response in reponses:\n",
    "            dic[response] = dic.get(response, 0) + 1\n",
    "    return dic"
   ]
  },
  {
   "cell_type": "code",
   "execution_count": 3,
   "metadata": {},
   "outputs": [],
   "source": [
    "def countForPart2(dic, responses):\n",
    "    return sum([1 for key, value in dic.items() if value == len(responses)])"
   ]
  },
  {
   "cell_type": "code",
   "execution_count": 4,
   "metadata": {},
   "outputs": [
    {
     "output_type": "stream",
     "name": "stdout",
     "text": [
      "Part 1 : 6768\nPart 2 : 3489\n"
     ]
    }
   ],
   "source": [
    "print('Part 1 :', sum([len(countResponsesInGroup(responses)) for responses in dataInput]))\n",
    "print('Part 2 :', sum([countForPart2(countResponsesInGroup(responses), responses) for responses in dataInput]))"
   ]
  }
 ]
}