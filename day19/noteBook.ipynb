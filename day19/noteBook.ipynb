{
 "metadata": {
  "language_info": {
   "codemirror_mode": {
    "name": "ipython",
    "version": 3
   },
   "file_extension": ".py",
   "mimetype": "text/x-python",
   "name": "python",
   "nbconvert_exporter": "python",
   "pygments_lexer": "ipython3",
   "version": "3.8.5-final"
  },
  "orig_nbformat": 2,
  "kernelspec": {
   "name": "python3",
   "display_name": "Python 3",
   "language": "python"
  }
 },
 "nbformat": 4,
 "nbformat_minor": 2,
 "cells": [
  {
   "cell_type": "code",
   "execution_count": 1,
   "metadata": {},
   "outputs": [],
   "source": [
    "def getRules(rule):\n",
    "    ruleId = rule.split(':')[0]\n",
    "    temp = rule.split(':')[1]\n",
    "    if('\"' in temp):\n",
    "        return ruleId, rule.split(':')[1].replace('\"','').strip()\n",
    "    else:\n",
    "        return ruleId, [rule.strip().split(' ') for rule in rule.split(':')[1].split('|')]    "
   ]
  },
  {
   "cell_type": "code",
   "execution_count": 2,
   "metadata": {},
   "outputs": [],
   "source": [
    "fileInput = open('data.txt', mode='r')\n",
    "dataInput = [group.split('\\n') for group in fileInput.read().split('\\n\\n')]\n",
    "rulesInput = {getRules(rule)[0]:getRules(rule)[1] for rule in dataInput[0]}\n",
    "fileInput.close()"
   ]
  },
  {
   "cell_type": "code",
   "execution_count": 3,
   "metadata": {},
   "outputs": [],
   "source": [
    "from functools import reduce\n",
    "from itertools import product\n",
    "\n",
    "def mergePossibilities(poss1,poss2):\n",
    "    return [p1+p2 for p1, p2 in product(poss1,poss2)]\n",
    "\n",
    "def specialConcat(listOfPoss):\n",
    "    return reduce(lambda a,b : mergePossibilities(a,b), listOfPoss)\n",
    "\n",
    "def getFinalRule(ruleId, rules):\n",
    "    rule = rules[ruleId]\n",
    "    if not(isinstance(rule,list)): return [rule]\n",
    "    else:\n",
    "        rule = [specialConcat([getFinalRule(i,rules) for i in r]) for r in rule]\n",
    "        return [p for pos in rule for p in pos]"
   ]
  },
  {
   "cell_type": "code",
   "execution_count": 4,
   "metadata": {},
   "outputs": [],
   "source": [
    "#r8 = r42 ou r42 + r8\n",
    "#r11 = r42 + r31 ou r42 + r11 + r31\n",
    "# r0 = r8 + r11\n",
    "rules42 = getFinalRule('42', rulesInput)\n",
    "rules31 = getFinalRule('31', rulesInput)\n",
    "rules11_1 = mergePossibilities(rules42,rules31)\n",
    "\n",
    "def specialAnalyseForR11(text):\n",
    "    if(text in rules11_1): return True\n",
    "    else:\n",
    "        nbChar42, nbChar31 = len(rules42[0]), len(rules31[0])\n",
    "        if(text[0:nbChar42] in rules42 and text[-nbChar31:] in rules31):\n",
    "            return specialAnalyseForR11(text[nbChar42:(len(text)-nbChar31)])\n",
    "        return False\n",
    "\n",
    "def analyseText(text):\n",
    "    nbChar42 = len(rules42[0])\n",
    "    if(len(text)%nbChar42 != 0): return False\n",
    "    i=0\n",
    "    while(i+nbChar42<len(text) and text[i:i+nbChar42] in rules42):\n",
    "        i+=nbChar42\n",
    "    return any([specialAnalyseForR11(text[i-j*nbChar42::]) for j in range(i//nbChar42)])"
   ]
  },
  {
   "cell_type": "code",
   "execution_count": 5,
   "metadata": {},
   "outputs": [
    {
     "output_type": "stream",
     "name": "stdout",
     "text": [
      "Part 1 : 139\n",
      "Part 2 : 289\n"
     ]
    }
   ],
   "source": [
    "listRules = getFinalRule('0', rulesInput)\n",
    "print(f'Part 1 : {len([text for text in dataInput[1] if text in listRules])}')\n",
    "print(f'Part 2 : {len([text for text in dataInput[1] if analyseText(text)])}')"
   ]
  }
 ]
}