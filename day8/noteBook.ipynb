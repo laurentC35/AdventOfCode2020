{
 "metadata": {
  "language_info": {
   "codemirror_mode": {
    "name": "ipython",
    "version": 3
   },
   "file_extension": ".py",
   "mimetype": "text/x-python",
   "name": "python",
   "nbconvert_exporter": "python",
   "pygments_lexer": "ipython3",
   "version": "3.8.5-final"
  },
  "orig_nbformat": 2,
  "kernelspec": {
   "name": "python3",
   "display_name": "Python 3"
  }
 },
 "nbformat": 4,
 "nbformat_minor": 2,
 "cells": [
  {
   "cell_type": "code",
   "execution_count": 1,
   "metadata": {},
   "outputs": [],
   "source": [
    "fileInput = open('data.txt', mode='r')\n",
    "dataInput = [{'opp':instructions.strip().split(' ')[0], 'value':int(instructions.strip().split(' ')[1])} for instructions in fileInput.readlines()]\n",
    "fileInput.close()"
   ]
  },
  {
   "cell_type": "code",
   "execution_count": 2,
   "metadata": {},
   "outputs": [],
   "source": [
    "def calculAccBeforeLoop(instructions):\n",
    "    called = [ 0 for i in range(0, len(instructions))]\n",
    "    acc = 0\n",
    "    indice = 0\n",
    "    while(indice < len(instructions) and indice >= 0 and called[indice] < 1):\n",
    "        called[indice] +=1\n",
    "        if (instructions[indice]['opp'] == 'acc'): acc+=instructions[indice]['value']\n",
    "        indice = indice+1 if instructions[indice]['opp'] in ['nop','acc'] else indice+instructions[indice]['value']\n",
    "    return {'acc':acc, 'indice':indice}"
   ]
  },
  {
   "cell_type": "code",
   "execution_count": 3,
   "metadata": {},
   "outputs": [],
   "source": [
    "def findIndicesOf(instructions, opp):\n",
    "    return [i for i, instruction in enumerate(instructions) if instruction['opp'] == opp] \n",
    "\n",
    "def changeInstructions(instructions, indice, newValue):\n",
    "    return [{'opp':newValue, 'value':instruction['value']} if i==indice else instruction for i, instruction in enumerate(instructions)  ]\n",
    "\n",
    "def createInstuctionsToTest(instructions):\n",
    "    return [changeInstructions(instructions, i, 'nop') for i in findIndicesOf(instructions,'jmp') ] + [changeInstructions(instructions, i, 'jmp') for i in findIndicesOf(instructions,'nop') ]"
   ]
  },
  {
   "cell_type": "code",
   "execution_count": 4,
   "metadata": {},
   "outputs": [
    {
     "output_type": "stream",
     "name": "stdout",
     "text": [
      "Part 1 : 1586\nPart 2 : 703\n"
     ]
    }
   ],
   "source": [
    "print('Part 1 :', calculAccBeforeLoop(dataInput)['acc'])\n",
    "print('Part 2 :', [result for result in [calculAccBeforeLoop(instructions) for instructions in createInstuctionsToTest(dataInput)] if result['indice'] == len(dataInput)][0]['acc'])"
   ]
  }
 ]
}