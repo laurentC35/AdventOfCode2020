{
 "metadata": {
  "language_info": {
   "codemirror_mode": {
    "name": "ipython",
    "version": 3
   },
   "file_extension": ".py",
   "mimetype": "text/x-python",
   "name": "python",
   "nbconvert_exporter": "python",
   "pygments_lexer": "ipython3",
   "version": "3.8.5-final"
  },
  "orig_nbformat": 2,
  "kernelspec": {
   "name": "python3",
   "display_name": "Python 3",
   "language": "python"
  }
 },
 "nbformat": 4,
 "nbformat_minor": 2,
 "cells": [
  {
   "cell_type": "code",
   "execution_count": 1,
   "metadata": {},
   "outputs": [],
   "source": [
    "import numpy as np\n",
    "\n",
    "fileInput = open('data.txt', mode='r')\n",
    "dataInput = [cubeLine.strip() for cubeLine in fileInput.readlines()]\n",
    "dataInput = np.array([[c for c in cubeLine] for cubeLine in dataInput ])\n",
    "fileInput.close()"
   ]
  },
  {
   "cell_type": "code",
   "execution_count": 2,
   "metadata": {},
   "outputs": [],
   "source": [
    "def prepareVolumeBeforeIter(volume):\n",
    "    newVolume=[]\n",
    "    nbLine = volume[0].shape[0]; nbCol = volume[0].shape[1]\n",
    "\n",
    "    for layout in volume:\n",
    "        layout = [(nbCol+2)*['.']] + [['.']+line+['.'] for line in layout.tolist()] + [(nbCol+2)*['.']] \n",
    "        newVolume.append(np.array(layout))\n",
    "    newVolume.append(np.array([['.' for j in range(nbCol+2)] for i in range(nbLine+2)]))\n",
    "    return newVolume\n",
    "\n",
    "def findNeighborsInLayout(x,y,layout, sameLayout=False):\n",
    "    nbLine = layout.shape[0]; nbCol = layout.shape[1]\n",
    "    directions = [(1,0),(-1,0),(0,1),(0,-1),(-1,-1),(1,1),(-1,1),(1,-1)]\n",
    "    allDire = directions if sameLayout else directions + [(0,0)]\n",
    "    return [layout[x+i,y+j] for i,j in allDire if 0<=x+i<nbLine and 0<=y+j<nbCol]\n",
    "\n",
    "def findNeighborsPart1(x,y,z, volume):\n",
    "    zMax = len(volume)\n",
    "    neigb = []\n",
    "    for i in [-1,0,1]:\n",
    "        currentZ = z+i\n",
    "        if(abs(currentZ) < zMax):\n",
    "            neigb += findNeighborsInLayout(x,y,volume[abs(currentZ)], i==0)\n",
    "    return neigb\n",
    "\n",
    "def changeValuePart1(x, y, z, volume):\n",
    "    if(volume[z][x,y] == '#'):\n",
    "        return '#' if findNeighborsPart1(x, y, z, volume).count('#') in [2,3] else '.'\n",
    "    if(volume[z][x,y] == '.'):\n",
    "        return '#' if findNeighborsPart1(x, y, z, volume).count('#') == 3 else '.'\n",
    "\n",
    "def simulateOneCyclePart1(initialVolume):\n",
    "    preVolume = prepareVolumeBeforeIter(volume=initialVolume)\n",
    "    newVolume = []\n",
    "    for z in range(len(preVolume)):\n",
    "        layoutZ = np.array([[changeValuePart1(x,y,z, preVolume) for y in range(preVolume[z].shape[1])] for x in range(preVolume[z].shape[0])])\n",
    "        newVolume.append(layoutZ)\n",
    "    return newVolume\n",
    "\n",
    "def simulateNCyclePart1(initialVolume, n):\n",
    "    volume = initialVolume\n",
    "    for i in range(n):\n",
    "        volume = simulateOneCyclePart1(volume)\n",
    "    return volume"
   ]
  },
  {
   "cell_type": "code",
   "execution_count": 3,
   "metadata": {},
   "outputs": [],
   "source": [
    "def countActiveCube1(volume):\n",
    "    s = 0\n",
    "    for i in range(len(volume)):\n",
    "        activeCubes = sum(volume[i][j].tolist().count('#') for j in range(volume[i].shape[0]))\n",
    "        s+= activeCubes if i==0 else 2*activeCubes\n",
    "    return s"
   ]
  },
  {
   "cell_type": "code",
   "execution_count": 4,
   "metadata": {},
   "outputs": [],
   "source": [
    "def convertInputToNewHyperV(inputValue):\n",
    "    hV = [[[]]]\n",
    "    for x in range(inputValue.shape[0]):\n",
    "        line = []\n",
    "        for y in range(inputValue.shape[1]):\n",
    "            line.append(inputValue[x,y])\n",
    "        hV[0][0].append(line)\n",
    "    return hV"
   ]
  },
  {
   "cell_type": "code",
   "execution_count": 5,
   "metadata": {},
   "outputs": [],
   "source": [
    "def getNeighborsPart2(Ow,Oz,Ox,Oy, hyperV):\n",
    "    wLen, zLen, xLen, yLen  = len(hyperV), len(hyperV[0]), len(hyperV[0][0]), len(hyperV[0][0][0])\n",
    "    neighbors=[]\n",
    "\n",
    "    for w in [-1,0,1]:\n",
    "        for z in [-1,0,1]:\n",
    "            for x in [-1,0,1]:\n",
    "                for y in [-1,0,1]:\n",
    "                    if(not(w==0 and z==0 and x==0 and y==0)):\n",
    "                        if (0<=abs(Ow+w)<wLen and 0<=abs(Oz+z)<zLen \n",
    "                        and 0<=Ox+x<xLen and 0<=Oy+y<yLen):\n",
    "                            neighbors.append(hyperV[abs(Ow+w)][abs(Oz+z)][Ox+x][Oy+y])\n",
    "    return neighbors\n",
    "                    "
   ]
  },
  {
   "cell_type": "code",
   "execution_count": 6,
   "metadata": {},
   "outputs": [],
   "source": [
    "def prepareVolumeBeforeIter2(volume):\n",
    "    newVolume, nbLine, nbCol = [], len(volume[0]), len(volume[0][0])\n",
    "\n",
    "    for layout in volume:\n",
    "        layout = [(nbCol+2)*['.']] + [['.']+line+['.'] for line in layout] + [(nbCol+2)*['.']] \n",
    "        newVolume.append(layout)\n",
    "    newVolume.append([['.' for j in range(nbCol+2)] for i in range(nbLine+2)])\n",
    "    return newVolume\n",
    "\n",
    "\n",
    "def prepareHyperV(hyperV):\n",
    "    nbLayout,nbLine,nbCol = len(hyperV[0]),len(hyperV[0][0]),len(hyperV[0][0][0])\n",
    "    \n",
    "    newHyperV = []\n",
    "    for volume in hyperV:\n",
    "        volume = prepareVolumeBeforeIter2(volume)\n",
    "        newHyperV.append(volume)\n",
    "    newHyperV.append([ [['.' for j in range(nbCol+2)] for i in range(nbLine+2)] for k in range(nbLayout+1)])\n",
    "    return newHyperV"
   ]
  },
  {
   "cell_type": "code",
   "execution_count": 7,
   "metadata": {},
   "outputs": [],
   "source": [
    "def changeValuePart2(x, y, z, w, hyperV):\n",
    "    if(hyperV[w][z][x][y] == '#'):\n",
    "        return '#' if getNeighborsPart2(w, z, x, y, hyperV).count('#') in [2,3] else '.'\n",
    "    if(hyperV[w][z][x][y] == '.'):\n",
    "        return '#' if getNeighborsPart2(w, z, x, y, hyperV).count('#') == 3 else '.'\n",
    "\n",
    "def simulateOneCyclePart2(initialHyperV):\n",
    "    preHyperV = prepareHyperV(initialHyperV)\n",
    "    newHyperV = []\n",
    "    \n",
    "    for w in range(len(preHyperV)):\n",
    "        volume = []\n",
    "        for z in range(len(preHyperV[0])):\n",
    "            layout = []\n",
    "            for x in range(len(preHyperV[0][0])):\n",
    "                ax = []\n",
    "                for y in range(len(preHyperV[0][0][0])):\n",
    "                    ax.append(changeValuePart2(x,y,z,w, preHyperV))\n",
    "                layout.append(ax)\n",
    "            volume.append(layout)\n",
    "        newHyperV.append(volume)\n",
    "    return newHyperV\n",
    "\n",
    "def simulateNCyclePart2(initialHyperV, n):\n",
    "    hyperV = initialHyperV\n",
    "    for i in range(n):\n",
    "        hyperV = simulateOneCyclePart2(hyperV)\n",
    "    return hyperV"
   ]
  },
  {
   "cell_type": "code",
   "execution_count": 8,
   "metadata": {},
   "outputs": [],
   "source": [
    "def countActiveCube2(hyperV):\n",
    "    s = 0\n",
    "    for w in range(len(hyperV)):\n",
    "        sw = 0\n",
    "        for z in range(len(hyperV[0])):\n",
    "            activeCubes = sum(hyperV[w][z][x].count('#') for x in range(len(hyperV[0][0])))\n",
    "            sw+= activeCubes if z==0 else 2*activeCubes\n",
    "        s+= sw if w==0 else 2*sw\n",
    "    return s"
   ]
  },
  {
   "cell_type": "code",
   "execution_count": 9,
   "metadata": {},
   "outputs": [
    {
     "output_type": "stream",
     "name": "stdout",
     "text": [
      "Part 1 : 372\n",
      "Part 2 : 1896\n"
     ]
    }
   ],
   "source": [
    "print('Part 1 :', countActiveCube1(simulateNCyclePart1([dataInput],6)))\n",
    "print('Part 2 :', countActiveCube2(simulateNCyclePart2(convertInputToNewHyperV(dataInput),6)))"
   ]
  }
 ]
}