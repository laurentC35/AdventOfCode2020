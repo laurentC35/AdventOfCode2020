{
 "metadata": {
  "language_info": {
   "codemirror_mode": {
    "name": "ipython",
    "version": 3
   },
   "file_extension": ".py",
   "mimetype": "text/x-python",
   "name": "python",
   "nbconvert_exporter": "python",
   "pygments_lexer": "ipython3",
   "version": "3.8.5-final"
  },
  "orig_nbformat": 2,
  "kernelspec": {
   "name": "python3",
   "display_name": "Python 3"
  }
 },
 "nbformat": 4,
 "nbformat_minor": 2,
 "cells": [
  {
   "cell_type": "code",
   "execution_count": 1,
   "metadata": {
    "tags": []
   },
   "outputs": [],
   "source": [
    "fileInput = open('data.txt', mode='r')\n",
    "\n",
    "passportsInput = [passport.replace('\\n',' ').split(' ') for passport in fileInput.read().split('\\n\\n')]\n",
    "passportsInput = [[attribut.split(':') for attribut in passport] for passport in passportsInput]\n",
    "fileInput.close()"
   ]
  },
  {
   "cell_type": "code",
   "execution_count": 2,
   "metadata": {},
   "outputs": [],
   "source": [
    "def isValidPassportPart1(policy, passport):\n",
    "    return all(mandatoryAttribut in [att[0] for att in passport] for mandatoryAttribut in policy)"
   ]
  },
  {
   "cell_type": "code",
   "execution_count": 3,
   "metadata": {},
   "outputs": [],
   "source": [
    "import re\n",
    "\n",
    "def checkByr(byr):\n",
    "    return 1920 <= int(byr) <= 2002\n",
    "def checkIyr(iyr):\n",
    "    return 2010 <= int(iyr) <= 2020\n",
    "def checkEyr(eyr):\n",
    "    return 2020 <= int(eyr) <= 2030\n",
    "def checkHgt(hgt):\n",
    "    if('cm' in hgt):\n",
    "        hgt = int(hgt.replace('cm',''))\n",
    "        return 150 <= hgt <= 193\n",
    "    elif('in' in hgt):\n",
    "        hgt = int(hgt.replace('in',''))\n",
    "        return 59 <= hgt <= 76\n",
    "    else:\n",
    "        return False\n",
    "def checkHcl(hcl):\n",
    "    return re.match('^#([\\d]|[a-f]){6}$',hcl) != None\n",
    "def checkEcl(ecl):\n",
    "    return ecl in ['amb', 'blu', 'brn', 'gry', 'grn', 'hzl', 'oth']\n",
    "def checkPid(pid):\n",
    "    return re.match('^[\\d]{9}$', pid) != None\n",
    "\n",
    "def checkAttribut(att):\n",
    "    if att[0] == 'byr':\n",
    "        return checkByr(att[1])\n",
    "    if att[0] == 'iyr':\n",
    "        return checkIyr(att[1])\n",
    "    if att[0] == 'eyr':\n",
    "        return checkEyr(att[1])\n",
    "    if att[0] == 'hgt':\n",
    "        return checkHgt(att[1])\n",
    "    if att[0] == 'hcl':\n",
    "        return checkHcl(att[1])\n",
    "    if att[0] == 'ecl':\n",
    "        return checkEcl(att[1])\n",
    "    if att[0] == 'pid':\n",
    "        return checkPid(att[1])\n",
    "    return True"
   ]
  },
  {
   "cell_type": "code",
   "execution_count": 4,
   "metadata": {},
   "outputs": [],
   "source": [
    "def isValidPasswordPart2(policy, passport):\n",
    "    return all([mandatoryAttribut in [att[0] for att in passport] for mandatoryAttribut in policy]) and all([checkAttribut(att) for att in passport])"
   ]
  },
  {
   "cell_type": "code",
   "execution_count": 5,
   "metadata": {},
   "outputs": [
    {
     "output_type": "stream",
     "name": "stdout",
     "text": [
      "Part 1 : 216\nPart 2 : 150\n"
     ]
    }
   ],
   "source": [
    "mandatoryAttributs = ['byr','iyr','eyr','hgt','hcl','ecl','pid']\n",
    "print('Part 1 :', len(list(filter(lambda passport: isValidPassportPart1(mandatoryAttributs, passport), passportsInput))))\n",
    "print('Part 2 :', len(list(filter(lambda passport: isValidPasswordPart2(mandatoryAttributs, passport), passportsInput))))"
   ]
  }
 ]
}