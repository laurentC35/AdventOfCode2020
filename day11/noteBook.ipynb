{
 "metadata": {
  "language_info": {
   "codemirror_mode": {
    "name": "ipython",
    "version": 3
   },
   "file_extension": ".py",
   "mimetype": "text/x-python",
   "name": "python",
   "nbconvert_exporter": "python",
   "pygments_lexer": "ipython3",
   "version": "3.8.5-final"
  },
  "orig_nbformat": 2,
  "kernelspec": {
   "name": "python3",
   "display_name": "Python 3",
   "language": "python"
  }
 },
 "nbformat": 4,
 "nbformat_minor": 2,
 "cells": [
  {
   "cell_type": "code",
   "execution_count": 1,
   "metadata": {},
   "outputs": [],
   "source": [
    "import numpy as np\n",
    "\n",
    "fileInput = open('data2.txt', mode='r')\n",
    "dataInput = [seatsLine.strip() for seatsLine in fileInput.readlines()]\n",
    "dataInput = np.array([[seat for seat in seatsLine] for seatsLine in dataInput  ])\n",
    "fileInput.close()"
   ]
  },
  {
   "cell_type": "code",
   "execution_count": 2,
   "metadata": {},
   "outputs": [],
   "source": [
    "# Part 1 : adjancentSeats\n",
    "def getAdjacentSeats(i, j, seats):    \n",
    "    sizeSeats = seats.shape\n",
    "    # case : in the corner\n",
    "    if(i == 0 and j == 0): \n",
    "        return [seats[i+1,j], seats[i+1, j+1], seats[i,j+1]]\n",
    "    if(i == (sizeSeats[0] - 1) and j == 0): \n",
    "        return [seats[i-1, j], seats[i-1, j+1], seats[i,j+1]]\n",
    "    if(i == 0 and j == (sizeSeats[1] - 1)):\n",
    "        return [seats[i, j-1], seats[i-1, j-1], seats[i-1,j]]\n",
    "    if(i == (sizeSeats[0] - 1) and j == (sizeSeats[1] - 1)): \n",
    "        return [seats[i-1, j], seats[i-1, j-1], seats[i,j-1]]\n",
    "    if(i == 0):\n",
    "        return [seats[i+1,j], seats[i+1,j-1], seats[i+1, j+1],seats[i,j-1], seats[i,j+1]]\n",
    "    if(i == (sizeSeats[0]-1)):\n",
    "        return [seats[i-1, j], seats[i-1, j-1], seats[i-1, j+1],seats[i,j-1], seats[i,j+1]]\n",
    "    if(j == 0):\n",
    "        return [seats[i-1, j], seats[i-1, j+1], seats[i+1,j], seats[i+1, j+1], seats[i,j+1]]\n",
    "    if(j == (sizeSeats[1]-1)):\n",
    "        return [seats[i-1, j], seats[i-1, j-1], seats[i+1,j], seats[i+1,j-1], seats[i,j-1]]\n",
    "    return [seats[i-1, j], seats[i-1, j-1], seats[i-1, j+1], seats[i+1,j], seats[i+1,j-1], seats[i+1, j+1],seats[i,j-1], seats[i,j+1]]\n",
    "\n",
    "def getMaxRange(i, j, nbLine, nbCol, direction):\n",
    "    rules = [{1: nbLine-i, -1:i+1}, {1: nbCol-j, -1:j+1}]\n",
    "    return min([rules[k][dire] for k, dire in enumerate(direction) if dire!=0])\n",
    "\n",
    "def getVisibleSeats(i, j, seats):\n",
    "    L = []\n",
    "    for direction in [[1,0],[-1,0],[0,1],[0,-1],[-1,-1],[1,1],[-1,1],[1,-1]]:\n",
    "        for k in range(1, getMaxRange(i,j, seats.shape[0],seats.shape[1],direction)):\n",
    "            seat = seats[i + direction[0]*k, j + direction[1]*k]\n",
    "            if(seat in ['#','L']):\n",
    "                L.append(seat)\n",
    "                break\n",
    "    return L"
   ]
  },
  {
   "cell_type": "code",
   "execution_count": 3,
   "metadata": {},
   "outputs": [],
   "source": [
    "def changeValue(i, j, seats, getNeighbors, limit):\n",
    "    if(seats[i,j] == 'L'):\n",
    "        return '#' if getNeighbors(i, j, seats).count('#') == 0 else 'L'\n",
    "    if(seats[i,j] == '#'):\n",
    "        return 'L' if getNeighbors(i, j, seats).count('#') >= limit else '#'\n",
    "\n",
    "def fillFerryPart1(seats):\n",
    "    seatsT_1 = seats\n",
    "    seatsT = np.array([ [changeValue(i,j, seatsT_1, getAdjacentSeats, 4) for j in range(seatsT_1.shape[1])] for i in range(seatsT_1.shape[0])])\n",
    "    while( not(np.array_equal(seatsT_1, seatsT))):\n",
    "        seatsT_1 = seatsT\n",
    "        seatsT = np.array([ [changeValue(i,j, seatsT_1, getAdjacentSeats, 4) for j in range(seatsT_1.shape[1])] for i in range(seatsT_1.shape[0])])\n",
    "    return seatsT\n",
    "\n",
    "def fillFerryPart2(seats):\n",
    "    seatsT_1 = seats\n",
    "    seatsT = np.array([ [changeValue(i,j, seatsT_1, getVisibleSeats, 5) for j in range(seatsT_1.shape[1])] for i in range(seatsT_1.shape[0])])\n",
    "    while( not(np.array_equal(seatsT_1, seatsT))):\n",
    "        seatsT_1 = seatsT\n",
    "        seatsT = np.array([ [changeValue(i,j, seatsT_1, getVisibleSeats, 5) for j in range(seatsT_1.shape[1])] for i in range(seatsT_1.shape[0])])\n",
    "    return seatsT"
   ]
  },
  {
   "cell_type": "code",
   "execution_count": 4,
   "metadata": {},
   "outputs": [
    {
     "output_type": "stream",
     "name": "stdout",
     "text": [
      "Part 1 : 2166\n",
      "Part 2 : 1955\n"
     ]
    }
   ],
   "source": [
    "def countSeatsOccupied(seats):\n",
    "    return sum(seats[i].tolist().count('#') for i in range(seats.shape[0]))\n",
    "    \n",
    "print('Part 1 :', countSeatsOccupied(fillFerryPart1(dataInput)))\n",
    "print('Part 2 :', countSeatsOccupied(fillFerryPart2(dataInput)))"
   ]
  }
 ]
}