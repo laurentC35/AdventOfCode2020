{
 "metadata": {
  "language_info": {
   "codemirror_mode": {
    "name": "ipython",
    "version": 3
   },
   "file_extension": ".py",
   "mimetype": "text/x-python",
   "name": "python",
   "nbconvert_exporter": "python",
   "pygments_lexer": "ipython3",
   "version": "3.8.5-final"
  },
  "orig_nbformat": 2,
  "kernelspec": {
   "name": "python3",
   "display_name": "Python 3",
   "language": "python"
  }
 },
 "nbformat": 4,
 "nbformat_minor": 2,
 "cells": [
  {
   "cell_type": "code",
   "execution_count": 1,
   "metadata": {},
   "outputs": [],
   "source": [
    "fileInput = open('data.txt', mode='r')\n",
    "dataInput = [int(number) for number in fileInput.readlines()]\n",
    "fileInput.close()"
   ]
  },
  {
   "cell_type": "code",
   "execution_count": 2,
   "metadata": {},
   "outputs": [],
   "source": [
    "import numpy as np\n",
    "from functools import reduce\n",
    "\n",
    "def countForPart1(numbers):\n",
    "    numbers.sort()\n",
    "    diff = np.array(numbers+[numbers[-1]+3]) - np.array([0]+numbers)\n",
    "    return { 'diff': diff, 'result': diff.tolist().count(1) * diff.tolist().count(3)}\n",
    "\n",
    "def countForPart2(numbers):\n",
    "    countListOf1 = {} ; nb_1 = 0\n",
    "    for number in countForPart1(numbers)['diff']:\n",
    "        if(number == 1): nb_1+=1          \n",
    "        else: countListOf1[nb_1] = countListOf1.get(nb_1,0) + 1 ; nb_1=0\n",
    "    return countListOf1\n",
    "\n",
    "def countCombinations(n):\n",
    "    return n >= 0 * 1 if n <= 1 else countCombinations(n-2)+countCombinations(n-3)+countCombinations(n-1)"
   ]
  },
  {
   "cell_type": "code",
   "execution_count": 3,
   "metadata": {},
   "outputs": [
    {
     "output_type": "stream",
     "name": "stdout",
     "text": [
      "Part 1 : 3000\nPart 2 : 193434623148032\n"
     ]
    }
   ],
   "source": [
    "print('Part 1 :', countForPart1(dataInput)['result'])\n",
    "print('Part 2 :', reduce(lambda r, values : r*pow(countCombinations(values[0]),values[1]) if values[0] > 0 else r, countForPart2(dataInput).items(), 1))\n"
   ]
  }
 ]
}